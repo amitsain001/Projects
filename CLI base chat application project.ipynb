{
 "cells": [
  {
   "cell_type": "markdown",
   "metadata": {},
   "source": [
    " ## CLI based sender and reciever chat application"
   ]
  },
  {
   "cell_type": "markdown",
   "metadata": {},
   "source": [
    "###  Functionality of CLI based chat application project\n",
    "* First of all CLI is the ( Command Line Interface ).\n",
    "\n",
    "* CLI based chat application is the application which is use to connect the two networks together and can performs a communication task between two users by the help of command line interface.\n",
    "\n",
    "### Steps of making CLI based application project are as follows :\n",
    "* In the first step we required a library named 'socket'. Import this library because socket library is used to send the message accross the network and connect them together.\n",
    "\n",
    "* Then in 2nd step we use exceptional handeling because if our main program causes any error in the try block then it will sended to the except block and the message in the except block is going to be displayed.\n",
    "\n",
    "* After making try block we make a built-in fucnction \"s\" and in this we pass parameters given below in the code in this DGRAM is the medium which is used to send the message or data to the reciever.\n",
    "\n",
    "* In this step we required the ip_address of the reciever on this address we can send the message. We can check the ip_address by the help of a command named \"ipconfig\" in the command prompt.\n",
    "\n",
    "* Now after previous step we required port no. also which is used to connect two networks together with the same server. Port no. is the any no. between 0 to 65536.\n",
    "\n",
    "* Then we make a target which holds both ip address and the port number which makes easy for us to access the accurate address of the reciever.\n",
    "\n",
    "* Then we input our required message which we want to send to the reciever.\n",
    "\n",
    "* In this step we used to encode our message to the machine understandable manner which is in the binary language.\n",
    "\n",
    "* In this step we make a built-in function which holds both encripted message and the target which means our encripted message is sending to the target ( reciever ).\n",
    "\n",
    "* Now we ended our try block and make a except block which print the message displayed in it if there presents an error in the try block.\n",
    "\n",
    "* After applying all these steps sequently our CLI based chat application will be successfully ready.\n",
    "\n"
   ]
  },
  {
   "cell_type": "markdown",
   "metadata": {},
   "source": [
    "## CODE FOR SENDER"
   ]
  },
  {
   "cell_type": "code",
   "execution_count": 1,
   "metadata": {},
   "outputs": [],
   "source": [
    "# Port limit = 0 to 65536\n",
    "# ip-address (ipv4) = 192.168.207.177\n",
    "# port = 1111\n",
    "\n",
    "import socket                                                # ( Socket library is used to send message accross network )\n",
    "try:\n",
    "    s =socket.socket(socket.AF_INET,socket.SOCK_DGRAM)       # ( DGRAM = it is a medium used to send message or data )\n",
    "    ip_address = '192.168.207.177'                           # ( ip_address is the addresss of the reciever who recieve our message )\n",
    "    port = 1111                                              # ( port number is used to connect two network together with the same server )\n",
    "    target= (ip_address,port)                                # ( target combines the ip address and port nnum,ber to identify the recievers exact location )\n",
    "    message = input(\"what messege you want to send ?\")       # ( here we add our text file of any message which we want to send to the reciever )\n",
    "    encript_message =message.encode('ascii')                 # ( encript message is used to encode the message or to convert our message to the binary language which is understood by our machine )\n",
    "    s.sendto(encript_message,target)                         # ( in this part s.sendto merges our message after converting it to the machine language and target which is our reciever )\n",
    "except Exception as e:                                       # ( Here we make a except block which catch the error if any step creates it in try block )\n",
    "    print(\"message is not send\")                             # ( if any error shown in try block then this message will be displayed on the terminal )\n",
    "    \n",
    "    "
   ]
  },
  {
   "cell_type": "markdown",
   "metadata": {},
   "source": [
    "## CODE FOR RECIEVER"
   ]
  },
  {
   "cell_type": "code",
   "execution_count": null,
   "metadata": {},
   "outputs": [],
   "source": [
    "import socket                                             # ( used to send message accross network )\n",
    "try:\n",
    "    s =socket.socket(socket.AF_INET,socket.SOCK_DGRAM)    # ( DGRAM = it is a medium used to send message or data )\n",
    "    ip_address = '192.168.207.177'\n",
    "    port = 1111\n",
    "    complete_add = (ip_address,port)\n",
    "    s.bind(complete_add)\n",
    "    while True:\n",
    "        message =s.recvfrom(120)                           #( 120 is data limit )\n",
    "        print(message)\n",
    "        data= message[0]\n",
    "        data = '\\n'\n",
    "        print(data.encode('ascii'))\n",
    "except Exception as e:\n",
    "    print(\"hello sir i received your message\")    \n"
   ]
  },
  {
   "cell_type": "markdown",
   "metadata": {},
   "source": [
    "### Conclusion\n",
    "\n",
    "* Building a CLI-based chat application in Python provides valuable insights into networking, concurrency, user interaction, and software design principles. By continuously refining and expanding the application's features, you can create a versatile and robust platform for communication.\n",
    "\n",
    "* Whether for learning purposes or practical use, the skills and knowledge gained from this project can be applied to various other software development endeavors. So, keep exploring, experimenting, and building to unleash your creativity and make a meaningful impact in the world of technology."
   ]
  },
  {
   "cell_type": "markdown",
   "metadata": {},
   "source": []
  }
 ],
 "metadata": {
  "kernelspec": {
   "display_name": "Python 3",
   "language": "python",
   "name": "python3"
  },
  "language_info": {
   "codemirror_mode": {
    "name": "ipython",
    "version": 3
   },
   "file_extension": ".py",
   "mimetype": "text/x-python",
   "name": "python",
   "nbconvert_exporter": "python",
   "pygments_lexer": "ipython3",
   "version": "3.12.2"
  }
 },
 "nbformat": 4,
 "nbformat_minor": 2
}
