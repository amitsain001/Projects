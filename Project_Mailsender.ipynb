{
 "cells": [
  {
   "cell_type": "markdown",
   "metadata": {},
   "source": [
    "# Introduction to Sending Emails with Python with code\n",
    "\n",
    "* Sending emails programmatically can be a powerful tool for automating communication in various applications, such as sending notifications, reports, or updates to users. Python provides several libraries that make it easy to send emails from your code. One popular library for this purpose is smtplib, which allows you to send emails using the Simple Mail Transfer Protocol (SMTP).\n",
    "\n",
    "### Getting Started\n",
    "\n",
    "* To begin sending emails with Python, you'll need to have an SMTP server to relay your emails. You can either use a public SMTP server provided by your email service provider (such as Gmail, Outlook, or Yahoo), or you can set up your own SMTP server.\n",
    "\n",
    "#### Sending Emails with smtplib\n",
    "\n",
    "* Here's a basic example of how to send an email using smtplib:\n",
    "\n"
   ]
  },
  {
   "cell_type": "code",
   "execution_count": null,
   "metadata": {},
   "outputs": [],
   "source": [
    "\n",
    "import smtplib\n",
    "try:\n",
    "    server = smtplib.SMTP(host=\"smtp.gmail.com\", port = 587)         # starttls is used to start the program, connect to the SMTP server\n",
    "    server.starttls()                                                # Enables TLS incription\n",
    "    \n",
    "    # Email Configuration\n",
    "    \n",
    "    reciever_email=input(\"enter your email: \")\n",
    "    sender_email='xyz123@gmail.com'\n",
    "    password='iimm rcdo drnr eqeo'\n",
    "    server.login(sender_email,password=password)                     # Login to the SMTP Server     \n",
    "    subject=input(\"what is your problem\")\n",
    "    body=input(\"thoda details me btaoa\")\n",
    "    message=f\"subject:{subject}\\n\\n{body}\"                           # Add the body to the Email\n",
    "    server.sendmail(sender_email,reciever_email,message)             # Mail send\n",
    "    print(\"maine mail send krdi hai\")\n",
    "    server.quit()\n",
    "except Exception as e:\n",
    "    print(\"mail send nai hui ❌\")"
   ]
  },
  {
   "cell_type": "markdown",
   "metadata": {},
   "source": [
    "#### Conclusion\n",
    "\n",
    "* With Python's smtplib library, sending emails programmatically becomes straightforward and efficient. Whether you're sending simple text emails or more complex HTML emails with attachments, Python provides the tools you need to automate your email communications effectively.\n",
    "\n",
    "* So go ahead, integrate email sending functionality into your Python applications, and streamline your communication processes today!"
   ]
  }
 ],
 "metadata": {
  "kernelspec": {
   "display_name": "Python 3",
   "language": "python",
   "name": "python3"
  },
  "language_info": {
   "name": "python",
   "version": "3.12.2"
  }
 },
 "nbformat": 4,
 "nbformat_minor": 2
}
